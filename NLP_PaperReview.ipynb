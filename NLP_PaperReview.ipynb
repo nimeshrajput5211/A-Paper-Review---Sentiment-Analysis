{
 "cells": [
  {
   "cell_type": "markdown",
   "metadata": {},
   "source": [
    "# Paper Review "
   ]
  },
  {
   "cell_type": "markdown",
   "metadata": {},
   "source": [
    "#### This sentiment analysis data set contains scientific paper reviews from an international conference on computing and informatics. The task is to predict the orientation or the evaluation of a review."
   ]
  },
  {
   "cell_type": "markdown",
   "metadata": {},
   "source": [
    "### Import required libraries "
   ]
  },
  {
   "cell_type": "code",
   "execution_count": 1,
   "metadata": {
    "collapsed": true
   },
   "outputs": [],
   "source": [
    "#review\n",
    "import pandas as pd\n",
    "import numpy as np\n",
    "import os\n",
    "import re"
   ]
  },
  {
   "cell_type": "markdown",
   "metadata": {},
   "source": [
    "###  set default encoding method"
   ]
  },
  {
   "cell_type": "code",
   "execution_count": 2,
   "metadata": {
    "collapsed": true
   },
   "outputs": [],
   "source": [
    "import sys\n",
    "reload(sys)\n",
    "sys.setdefaultencoding('utf8')"
   ]
  },
  {
   "cell_type": "markdown",
   "metadata": {},
   "source": [
    "###  Looking output of Multiple commands of single cell "
   ]
  },
  {
   "cell_type": "code",
   "execution_count": 3,
   "metadata": {
    "collapsed": true
   },
   "outputs": [],
   "source": [
    "from IPython.core.interactiveshell import InteractiveShell\n",
    "InteractiveShell.ast_node_interactivity = \"all\""
   ]
  },
  {
   "cell_type": "markdown",
   "metadata": {},
   "source": [
    "### Load JSON file and convert unstructred data into structured format"
   ]
  },
  {
   "cell_type": "code",
   "execution_count": 4,
   "metadata": {
    "collapsed": true
   },
   "outputs": [],
   "source": [
    "import json\n",
    "\n",
    "f1 = open('reviews.json')\n",
    "new_data = json.load(f1)\n",
    "f1.close()\n",
    "\n",
    " f1 = open(\"MainData.csv\",\"w+\")\n",
    " header = \"id\" + \",\" + \"Decision\" + \",\" + \"Confidence\" + \",\" + \"Evaluation\" + \",\" + \"Sub-id\" + \",\" \n",
    " header = header +  \"Lan\" + \",\" + \"Orientation\" + \",\" + \"Text\" + \",\" + \"TimeSpan\" + \"\\n\"\n",
    "\n",
    " f1.write(header)\n",
    "\n",
    " allData = new_data['paper']\n",
    " newDict = {}\n",
    "\n",
    " for i in range(len(allData)):\n",
    "     dataDict = allData[i]\n",
    "     paper_id = dataDict['id']\n",
    "     target = dataDict['preliminary_decision']\n",
    "     reviewStruct = dataDict['review']\n",
    "      \n",
    "     for review in reviewStruct: \n",
    "         dataDict = str(paper_id) + \",\" + target + \",\"\n",
    "         for reviewDetail in review:\n",
    "             dataDict = dataDict + str(review['confidence']) + \",\"\n",
    "             dataDict = dataDict + str(review['evaluation']) + \",\"\n",
    "             dataDict = dataDict + str(review['id']) + \",\"\n",
    "             dataDict = dataDict + str(review['lan']) + \",\"\n",
    "             dataDict = dataDict + str(review['orientation']) + \",\"\n",
    "             dataDict = dataDict + str(review['text']).replace(\",\" , \"|\") + \",\"\n",
    "             dataDict = dataDict + str(review['timespan'])\n",
    "             break\n",
    "         f1.write(dataDict + \"\\n\")\n",
    "\n",
    " f1.close()"
   ]
  },
  {
   "cell_type": "markdown",
   "metadata": {},
   "source": [
    "### Load the csv file into enviornment"
   ]
  },
  {
   "cell_type": "code",
   "execution_count": 5,
   "metadata": {
    "collapsed": true
   },
   "outputs": [],
   "source": [
    "text_data = pd.read_csv(\"MainData.csv\")"
   ]
  },
  {
   "cell_type": "markdown",
   "metadata": {},
   "source": [
    "### Perform some summary statistics on data"
   ]
  },
  {
   "cell_type": "code",
   "execution_count": 6,
   "metadata": {},
   "outputs": [
    {
     "data": {
      "text/html": [
       "<div>\n",
       "<style>\n",
       "    .dataframe thead tr:only-child th {\n",
       "        text-align: right;\n",
       "    }\n",
       "\n",
       "    .dataframe thead th {\n",
       "        text-align: left;\n",
       "    }\n",
       "\n",
       "    .dataframe tbody tr th {\n",
       "        vertical-align: top;\n",
       "    }\n",
       "</style>\n",
       "<table border=\"1\" class=\"dataframe\">\n",
       "  <thead>\n",
       "    <tr style=\"text-align: right;\">\n",
       "      <th></th>\n",
       "      <th>id</th>\n",
       "      <th>Decision</th>\n",
       "      <th>Confidence</th>\n",
       "      <th>Evaluation</th>\n",
       "      <th>Sub-id</th>\n",
       "      <th>Lan</th>\n",
       "      <th>Orientation</th>\n",
       "      <th>Text</th>\n",
       "      <th>TimeSpan</th>\n",
       "    </tr>\n",
       "  </thead>\n",
       "  <tbody>\n",
       "    <tr>\n",
       "      <th>0</th>\n",
       "      <td>1</td>\n",
       "      <td>accept</td>\n",
       "      <td>4</td>\n",
       "      <td>1</td>\n",
       "      <td>1</td>\n",
       "      <td>es</td>\n",
       "      <td>0</td>\n",
       "      <td>- El artículo aborda un problema contingente y...</td>\n",
       "      <td>2010-07-05</td>\n",
       "    </tr>\n",
       "    <tr>\n",
       "      <th>1</th>\n",
       "      <td>1</td>\n",
       "      <td>accept</td>\n",
       "      <td>4</td>\n",
       "      <td>1</td>\n",
       "      <td>2</td>\n",
       "      <td>es</td>\n",
       "      <td>1</td>\n",
       "      <td>El artículo presenta recomendaciones prácticas...</td>\n",
       "      <td>2010-07-05</td>\n",
       "    </tr>\n",
       "    <tr>\n",
       "      <th>2</th>\n",
       "      <td>1</td>\n",
       "      <td>accept</td>\n",
       "      <td>5</td>\n",
       "      <td>1</td>\n",
       "      <td>3</td>\n",
       "      <td>es</td>\n",
       "      <td>1</td>\n",
       "      <td>- El tema es muy interesante y puede ser de mu...</td>\n",
       "      <td>2010-07-05</td>\n",
       "    </tr>\n",
       "    <tr>\n",
       "      <th>3</th>\n",
       "      <td>2</td>\n",
       "      <td>accept</td>\n",
       "      <td>4</td>\n",
       "      <td>2</td>\n",
       "      <td>1</td>\n",
       "      <td>es</td>\n",
       "      <td>1</td>\n",
       "      <td>Se explica en forma ordenada y didáctica una e...</td>\n",
       "      <td>2010-07-05</td>\n",
       "    </tr>\n",
       "    <tr>\n",
       "      <th>4</th>\n",
       "      <td>2</td>\n",
       "      <td>accept</td>\n",
       "      <td>4</td>\n",
       "      <td>2</td>\n",
       "      <td>2</td>\n",
       "      <td>es</td>\n",
       "      <td>0</td>\n",
       "      <td>NaN</td>\n",
       "      <td>2010-07-05</td>\n",
       "    </tr>\n",
       "  </tbody>\n",
       "</table>\n",
       "</div>"
      ],
      "text/plain": [
       "   id Decision Confidence  Evaluation  Sub-id Lan  Orientation  \\\n",
       "0   1   accept          4           1       1  es            0   \n",
       "1   1   accept          4           1       2  es            1   \n",
       "2   1   accept          5           1       3  es            1   \n",
       "3   2   accept          4           2       1  es            1   \n",
       "4   2   accept          4           2       2  es            0   \n",
       "\n",
       "                                                Text    TimeSpan  \n",
       "0  - El artÃ­culo aborda un problema contingente y...  2010-07-05  \n",
       "1  El artÃ­culo presenta recomendaciones prÃ¡cticas...  2010-07-05  \n",
       "2  - El tema es muy interesante y puede ser de mu...  2010-07-05  \n",
       "3  Se explica en forma ordenada y didÃ¡ctica una e...  2010-07-05  \n",
       "4                                                NaN  2010-07-05  "
      ]
     },
     "execution_count": 6,
     "metadata": {},
     "output_type": "execute_result"
    },
    {
     "data": {
      "text/html": [
       "<div>\n",
       "<style>\n",
       "    .dataframe thead tr:only-child th {\n",
       "        text-align: right;\n",
       "    }\n",
       "\n",
       "    .dataframe thead th {\n",
       "        text-align: left;\n",
       "    }\n",
       "\n",
       "    .dataframe tbody tr th {\n",
       "        vertical-align: top;\n",
       "    }\n",
       "</style>\n",
       "<table border=\"1\" class=\"dataframe\">\n",
       "  <thead>\n",
       "    <tr style=\"text-align: right;\">\n",
       "      <th></th>\n",
       "      <th>id</th>\n",
       "      <th>Decision</th>\n",
       "      <th>Confidence</th>\n",
       "      <th>Evaluation</th>\n",
       "      <th>Sub-id</th>\n",
       "      <th>Lan</th>\n",
       "      <th>Orientation</th>\n",
       "      <th>Text</th>\n",
       "      <th>TimeSpan</th>\n",
       "    </tr>\n",
       "  </thead>\n",
       "  <tbody>\n",
       "    <tr>\n",
       "      <th>400</th>\n",
       "      <td>170</td>\n",
       "      <td>reject</td>\n",
       "      <td>5</td>\n",
       "      <td>-1</td>\n",
       "      <td>1</td>\n",
       "      <td>es</td>\n",
       "      <td>-2</td>\n",
       "      <td>El trabajo pretende ofrecer una visión del uso...</td>\n",
       "      <td>2015-07-05</td>\n",
       "    </tr>\n",
       "    <tr>\n",
       "      <th>401</th>\n",
       "      <td>170</td>\n",
       "      <td>reject</td>\n",
       "      <td>4</td>\n",
       "      <td>-1</td>\n",
       "      <td>2</td>\n",
       "      <td>es</td>\n",
       "      <td>-1</td>\n",
       "      <td>El paper está bien escrito y de fácil lectura....</td>\n",
       "      <td>2015-07-05</td>\n",
       "    </tr>\n",
       "    <tr>\n",
       "      <th>402</th>\n",
       "      <td>171</td>\n",
       "      <td>accept</td>\n",
       "      <td>4</td>\n",
       "      <td>-1</td>\n",
       "      <td>1</td>\n",
       "      <td>es</td>\n",
       "      <td>0</td>\n",
       "      <td>Observación de fondo:  No se presenta un ejemp...</td>\n",
       "      <td>2015-07-05</td>\n",
       "    </tr>\n",
       "    <tr>\n",
       "      <th>403</th>\n",
       "      <td>171</td>\n",
       "      <td>accept</td>\n",
       "      <td>3</td>\n",
       "      <td>1</td>\n",
       "      <td>2</td>\n",
       "      <td>es</td>\n",
       "      <td>-1</td>\n",
       "      <td>Se propone un procedimiento para elaborar máqu...</td>\n",
       "      <td>2015-07-05</td>\n",
       "    </tr>\n",
       "    <tr>\n",
       "      <th>404</th>\n",
       "      <td>172</td>\n",
       "      <td>no decision</td>\n",
       "      <td>4</td>\n",
       "      <td>1</td>\n",
       "      <td>1</td>\n",
       "      <td>es</td>\n",
       "      <td>-1</td>\n",
       "      <td>El artículo describe básicamente los component...</td>\n",
       "      <td>2015-07-05</td>\n",
       "    </tr>\n",
       "  </tbody>\n",
       "</table>\n",
       "</div>"
      ],
      "text/plain": [
       "      id     Decision Confidence  Evaluation  Sub-id Lan  Orientation  \\\n",
       "400  170       reject          5          -1       1  es           -2   \n",
       "401  170       reject          4          -1       2  es           -1   \n",
       "402  171       accept          4          -1       1  es            0   \n",
       "403  171       accept          3           1       2  es           -1   \n",
       "404  172  no decision          4           1       1  es           -1   \n",
       "\n",
       "                                                  Text    TimeSpan  \n",
       "400  El trabajo pretende ofrecer una visiÃ³n del uso...  2015-07-05  \n",
       "401  El paper estÃ¡ bien escrito y de fÃ¡cil lectura....  2015-07-05  \n",
       "402  ObservaciÃ³n de fondo:  No se presenta un ejemp...  2015-07-05  \n",
       "403  Se propone un procedimiento para elaborar mÃ¡qu...  2015-07-05  \n",
       "404  El artÃ­culo describe bÃ¡sicamente los component...  2015-07-05  "
      ]
     },
     "execution_count": 6,
     "metadata": {},
     "output_type": "execute_result"
    }
   ],
   "source": [
    "text_data.head(5)\n",
    "text_data.tail(5)"
   ]
  },
  {
   "cell_type": "markdown",
   "metadata": {},
   "source": [
    "### Finding Missing Values"
   ]
  },
  {
   "cell_type": "code",
   "execution_count": 7,
   "metadata": {},
   "outputs": [
    {
     "data": {
      "text/plain": [
       "id             0\n",
       "Decision       0\n",
       "Confidence     0\n",
       "Evaluation     0\n",
       "Sub-id         0\n",
       "Lan            0\n",
       "Orientation    0\n",
       "Text           6\n",
       "TimeSpan       0\n",
       "dtype: int64"
      ]
     },
     "execution_count": 7,
     "metadata": {},
     "output_type": "execute_result"
    }
   ],
   "source": [
    "text_data.isnull().sum()"
   ]
  },
  {
   "cell_type": "markdown",
   "metadata": {},
   "source": [
    "### Droping the missing values"
   ]
  },
  {
   "cell_type": "code",
   "execution_count": 8,
   "metadata": {},
   "outputs": [
    {
     "data": {
      "text/plain": [
       "id             0\n",
       "Decision       0\n",
       "Confidence     0\n",
       "Evaluation     0\n",
       "Sub-id         0\n",
       "Lan            0\n",
       "Orientation    0\n",
       "Text           0\n",
       "TimeSpan       0\n",
       "dtype: int64"
      ]
     },
     "execution_count": 8,
     "metadata": {},
     "output_type": "execute_result"
    }
   ],
   "source": [
    "text_data.dropna(inplace=True)\n",
    "text_data.isnull().sum()"
   ]
  },
  {
   "cell_type": "code",
   "execution_count": 9,
   "metadata": {},
   "outputs": [
    {
     "data": {
      "text/plain": [
       "(array(['accept', 'no decision', 'probably reject', 'reject'], dtype=object),\n",
       " array([257,   1,  19, 122], dtype=int64))"
      ]
     },
     "execution_count": 9,
     "metadata": {},
     "output_type": "execute_result"
    }
   ],
   "source": [
    "# Print the unique classes and their counts/frequencies\n",
    "classes = np.unique(text_data['Decision'], return_counts=True) # np.unique returns a tuple with class names and counts\n",
    "#print(classes[0]) #Print the list of unique classes\n",
    "#print(classes[1]) #Print the frequency of each classes\n",
    "classes"
   ]
  },
  {
   "cell_type": "markdown",
   "metadata": {},
   "source": [
    "### As we analyze the frequency of the different classes, 'no decision' should be comes 1 so we replace by 'reject'"
   ]
  },
  {
   "cell_type": "code",
   "execution_count": 10,
   "metadata": {},
   "outputs": [
    {
     "data": {
      "text/html": [
       "<div>\n",
       "<style>\n",
       "    .dataframe thead tr:only-child th {\n",
       "        text-align: right;\n",
       "    }\n",
       "\n",
       "    .dataframe thead th {\n",
       "        text-align: left;\n",
       "    }\n",
       "\n",
       "    .dataframe tbody tr th {\n",
       "        vertical-align: top;\n",
       "    }\n",
       "</style>\n",
       "<table border=\"1\" class=\"dataframe\">\n",
       "  <thead>\n",
       "    <tr style=\"text-align: right;\">\n",
       "      <th></th>\n",
       "      <th>id</th>\n",
       "      <th>Decision</th>\n",
       "      <th>Confidence</th>\n",
       "      <th>Evaluation</th>\n",
       "      <th>Sub-id</th>\n",
       "      <th>Lan</th>\n",
       "      <th>Orientation</th>\n",
       "      <th>Text</th>\n",
       "      <th>TimeSpan</th>\n",
       "    </tr>\n",
       "  </thead>\n",
       "  <tbody>\n",
       "    <tr>\n",
       "      <th>400</th>\n",
       "      <td>170</td>\n",
       "      <td>reject</td>\n",
       "      <td>5</td>\n",
       "      <td>-1</td>\n",
       "      <td>1</td>\n",
       "      <td>es</td>\n",
       "      <td>-2</td>\n",
       "      <td>El trabajo pretende ofrecer una visión del uso...</td>\n",
       "      <td>2015-07-05</td>\n",
       "    </tr>\n",
       "    <tr>\n",
       "      <th>401</th>\n",
       "      <td>170</td>\n",
       "      <td>reject</td>\n",
       "      <td>4</td>\n",
       "      <td>-1</td>\n",
       "      <td>2</td>\n",
       "      <td>es</td>\n",
       "      <td>-1</td>\n",
       "      <td>El paper está bien escrito y de fácil lectura....</td>\n",
       "      <td>2015-07-05</td>\n",
       "    </tr>\n",
       "    <tr>\n",
       "      <th>402</th>\n",
       "      <td>171</td>\n",
       "      <td>accept</td>\n",
       "      <td>4</td>\n",
       "      <td>-1</td>\n",
       "      <td>1</td>\n",
       "      <td>es</td>\n",
       "      <td>0</td>\n",
       "      <td>Observación de fondo:  No se presenta un ejemp...</td>\n",
       "      <td>2015-07-05</td>\n",
       "    </tr>\n",
       "    <tr>\n",
       "      <th>403</th>\n",
       "      <td>171</td>\n",
       "      <td>accept</td>\n",
       "      <td>3</td>\n",
       "      <td>1</td>\n",
       "      <td>2</td>\n",
       "      <td>es</td>\n",
       "      <td>-1</td>\n",
       "      <td>Se propone un procedimiento para elaborar máqu...</td>\n",
       "      <td>2015-07-05</td>\n",
       "    </tr>\n",
       "    <tr>\n",
       "      <th>404</th>\n",
       "      <td>172</td>\n",
       "      <td>reject</td>\n",
       "      <td>4</td>\n",
       "      <td>1</td>\n",
       "      <td>1</td>\n",
       "      <td>es</td>\n",
       "      <td>-1</td>\n",
       "      <td>El artículo describe básicamente los component...</td>\n",
       "      <td>2015-07-05</td>\n",
       "    </tr>\n",
       "  </tbody>\n",
       "</table>\n",
       "</div>"
      ],
      "text/plain": [
       "      id Decision Confidence  Evaluation  Sub-id Lan  Orientation  \\\n",
       "400  170   reject          5          -1       1  es           -2   \n",
       "401  170   reject          4          -1       2  es           -1   \n",
       "402  171   accept          4          -1       1  es            0   \n",
       "403  171   accept          3           1       2  es           -1   \n",
       "404  172   reject          4           1       1  es           -1   \n",
       "\n",
       "                                                  Text    TimeSpan  \n",
       "400  El trabajo pretende ofrecer una visiÃ³n del uso...  2015-07-05  \n",
       "401  El paper estÃ¡ bien escrito y de fÃ¡cil lectura....  2015-07-05  \n",
       "402  ObservaciÃ³n de fondo:  No se presenta un ejemp...  2015-07-05  \n",
       "403  Se propone un procedimiento para elaborar mÃ¡qu...  2015-07-05  \n",
       "404  El artÃ­culo describe bÃ¡sicamente los component...  2015-07-05  "
      ]
     },
     "execution_count": 10,
     "metadata": {},
     "output_type": "execute_result"
    }
   ],
   "source": [
    "text_data = text_data.replace('no decision', 'reject')\n",
    "text_data.tail()"
   ]
  },
  {
   "cell_type": "markdown",
   "metadata": {},
   "source": [
    "## Convert Text into Term Document and Count Vectorization"
   ]
  },
  {
   "cell_type": "markdown",
   "metadata": {},
   "source": [
    "###  Extract text column from the dataset and apply preprocessing steps on it...."
   ]
  },
  {
   "cell_type": "code",
   "execution_count": 11,
   "metadata": {},
   "outputs": [
    {
     "data": {
      "text/plain": [
       "0    - El artÃ­culo aborda un problema contingente y...\n",
       "1    El artÃ­culo presenta recomendaciones prÃ¡cticas...\n",
       "2    - El tema es muy interesante y puede ser de mu...\n",
       "3    Se explica en forma ordenada y didÃ¡ctica una e...\n",
       "5    Los autores describen una metodologÃ­a para des...\n",
       "Name: Text, dtype: object"
      ]
     },
     "execution_count": 11,
     "metadata": {},
     "output_type": "execute_result"
    }
   ],
   "source": [
    "txt_col = text_data['Text']\n",
    "txt_col.head()"
   ]
  },
  {
   "cell_type": "code",
   "execution_count": 12,
   "metadata": {
    "collapsed": true
   },
   "outputs": [],
   "source": [
    "txt = txt_col.tolist()"
   ]
  },
  {
   "cell_type": "code",
   "execution_count": 13,
   "metadata": {},
   "outputs": [
    {
     "data": {
      "text/plain": [
       "list"
      ]
     },
     "execution_count": 13,
     "metadata": {},
     "output_type": "execute_result"
    },
    {
     "data": {
      "text/plain": [
       "'- El art\\xc3\\xadculo aborda un problema contingente y muy relevante| e incluye tanto un diagn\\xc3\\xb3stico nacional de uso de buenas pr\\xc3\\xa1cticas como una soluci\\xc3\\xb3n (buenas pr\\xc3\\xa1cticas concretas). - El lenguaje es adecuado.  - El art\\xc3\\xadculo se siente como la concatenaci\\xc3\\xb3n de tres art\\xc3\\xadculos diferentes: (1) resultados de una encuesta| (2) buenas pr\\xc3\\xa1cticas de seguridad| (3) incorporaci\\xc3\\xb3n de buenas pr\\xc3\\xa1cticas. - El orden de las secciones ser\\xc3\\xada mejor si refleja este orden (la versi\\xc3\\xb3n revisada es #2| #1| #3). - El art\\xc3\\xadculo no tiene validaci\\xc3\\xb3n de ning\\xc3\\xban tipo| ni siquiera por evaluaci\\xc3\\xb3n de expertos.'"
      ]
     },
     "execution_count": 13,
     "metadata": {},
     "output_type": "execute_result"
    },
    {
     "data": {
      "text/plain": [
       "399"
      ]
     },
     "execution_count": 13,
     "metadata": {},
     "output_type": "execute_result"
    }
   ],
   "source": [
    "type(txt)\n",
    "txt[0]\n",
    "len(txt)"
   ]
  },
  {
   "cell_type": "code",
   "execution_count": 14,
   "metadata": {
    "collapsed": true
   },
   "outputs": [],
   "source": [
    "#txt[330]\n",
    "txt_dataframe = pd.DataFrame(txt)"
   ]
  },
  {
   "cell_type": "code",
   "execution_count": 15,
   "metadata": {
    "collapsed": true
   },
   "outputs": [],
   "source": [
    "new_txt = txt_dataframe.drop(txt_dataframe.index[321:331])\n",
    "text_data = text_data.drop(text_data.index[321:331])"
   ]
  },
  {
   "cell_type": "code",
   "execution_count": 16,
   "metadata": {},
   "outputs": [
    {
     "data": {
      "text/plain": [
       "389"
      ]
     },
     "execution_count": 16,
     "metadata": {},
     "output_type": "execute_result"
    },
    {
     "data": {
      "text/plain": [
       "list"
      ]
     },
     "execution_count": 16,
     "metadata": {},
     "output_type": "execute_result"
    }
   ],
   "source": [
    "len(new_txt)\n",
    "txt_new_data = new_txt[0].tolist()\n",
    "type(txt_new_data)"
   ]
  },
  {
   "cell_type": "markdown",
   "metadata": {},
   "source": [
    "###  Translated object is not iterated so we need to do manually for all rows... First for 1:100 rows"
   ]
  },
  {
   "cell_type": "code",
   "execution_count": 17,
   "metadata": {
    "collapsed": true
   },
   "outputs": [],
   "source": [
    "from googletrans import Translator\n",
    "translator = Translator()"
   ]
  },
  {
   "cell_type": "code",
   "execution_count": 18,
   "metadata": {
    "collapsed": true
   },
   "outputs": [],
   "source": [
    "t = translator.translate(txt_new_data, dest='en')\n",
    "t_csv = pd.DataFrame(t)\n",
    "t_csv.head()\n",
    "pd.DataFrame.to_csv(t_csv, \"Text.csv\", index= False)"
   ]
  },
  {
   "cell_type": "code",
   "execution_count": 19,
   "metadata": {
    "collapsed": true
   },
   "outputs": [],
   "source": [
    "txt_frame = pd.read_csv(\"Text.csv\")"
   ]
  },
  {
   "cell_type": "code",
   "execution_count": 20,
   "metadata": {},
   "outputs": [
    {
     "data": {
      "text/html": [
       "<div>\n",
       "<style>\n",
       "    .dataframe thead tr:only-child th {\n",
       "        text-align: right;\n",
       "    }\n",
       "\n",
       "    .dataframe thead th {\n",
       "        text-align: left;\n",
       "    }\n",
       "\n",
       "    .dataframe tbody tr th {\n",
       "        vertical-align: top;\n",
       "    }\n",
       "</style>\n",
       "<table border=\"1\" class=\"dataframe\">\n",
       "  <thead>\n",
       "    <tr style=\"text-align: right;\">\n",
       "      <th></th>\n",
       "      <th>Text</th>\n",
       "    </tr>\n",
       "  </thead>\n",
       "  <tbody>\n",
       "    <tr>\n",
       "      <th>0</th>\n",
       "      <td>- The article addresses a contingent and very ...</td>\n",
       "    </tr>\n",
       "    <tr>\n",
       "      <th>1</th>\n",
       "      <td>The article presents practical recommendations...</td>\n",
       "    </tr>\n",
       "    <tr>\n",
       "      <th>2</th>\n",
       "      <td>- The topic is very interesting and a guide to...</td>\n",
       "    </tr>\n",
       "    <tr>\n",
       "      <th>3</th>\n",
       "      <td>An experience of ICT use for academic collabor...</td>\n",
       "    </tr>\n",
       "    <tr>\n",
       "      <th>4</th>\n",
       "      <td>The authors describe a methodology to develop ...</td>\n",
       "    </tr>\n",
       "  </tbody>\n",
       "</table>\n",
       "</div>"
      ],
      "text/plain": [
       "                                                Text\n",
       "0  - The article addresses a contingent and very ...\n",
       "1  The article presents practical recommendations...\n",
       "2  - The topic is very interesting and a guide to...\n",
       "3  An experience of ICT use for academic collabor...\n",
       "4  The authors describe a methodology to develop ..."
      ]
     },
     "execution_count": 20,
     "metadata": {},
     "output_type": "execute_result"
    }
   ],
   "source": [
    "txt_frame.columns = [\"Text\"]\n",
    "txt_frame.head()"
   ]
  },
  {
   "cell_type": "code",
   "execution_count": 21,
   "metadata": {
    "collapsed": true
   },
   "outputs": [],
   "source": [
    "txt_frame1 = txt_frame[\"Text\"].tolist()"
   ]
  },
  {
   "cell_type": "code",
   "execution_count": 22,
   "metadata": {
    "collapsed": true
   },
   "outputs": [],
   "source": [
    "#Some text preprocessing- Removing extra spaces and numbers\n",
    "\n",
    "for i in range(len(txt_frame1)):\n",
    "    txt_frame1[i]=re.sub(r'\\s+', ' ', txt_frame1[i]) #Removing white spaces in the sentence\n",
    "    txt_frame1[i]=re.sub(r'\\d+', ' ', txt_frame1[i]) #Removing white spaces in the sentenceb"
   ]
  },
  {
   "cell_type": "code",
   "execution_count": 23,
   "metadata": {},
   "outputs": [
    {
     "data": {
      "text/plain": [
       "(389, 4317)"
      ]
     },
     "execution_count": 23,
     "metadata": {},
     "output_type": "execute_result"
    },
    {
     "data": {
      "text/plain": [
       "(389, 4317)"
      ]
     },
     "execution_count": 23,
     "metadata": {},
     "output_type": "execute_result"
    }
   ],
   "source": [
    "from sklearn.feature_extraction.text import CountVectorizer,TfidfVectorizer\n",
    "#Lets consider TF-idf\n",
    "tfidf_transformer = TfidfVectorizer(ngram_range=(1,1),stop_words='english')\n",
    "X_train_tfidf = tfidf_transformer.fit_transform(txt_frame1)\n",
    "X_train_tfidf.shape\n",
    "Dense_mat=X_train_tfidf.todense()\n",
    "A=pd.DataFrame(Dense_mat,columns=tfidf_transformer.get_feature_names())\n",
    "\n",
    "A.shape"
   ]
  },
  {
   "cell_type": "code",
   "execution_count": 24,
   "metadata": {
    "collapsed": true
   },
   "outputs": [],
   "source": [
    "txt_eval_col = text_data[[\"Confidence\",\"Evaluation\",\"Orientation\"]]"
   ]
  },
  {
   "cell_type": "code",
   "execution_count": 25,
   "metadata": {
    "collapsed": true
   },
   "outputs": [],
   "source": [
    "new_main_data = pd.concat(axis=1,objs=[A,txt_eval_col])"
   ]
  },
  {
   "cell_type": "code",
   "execution_count": 26,
   "metadata": {},
   "outputs": [
    {
     "data": {
      "text/plain": [
       "Index([u'id', u'Decision', u'Confidence', u'Evaluation', u'Sub-id', u'Lan',\n",
       "       u'Orientation', u'Text', u'TimeSpan'],\n",
       "      dtype='object')"
      ]
     },
     "execution_count": 26,
     "metadata": {},
     "output_type": "execute_result"
    }
   ],
   "source": [
    "text_data.columns"
   ]
  },
  {
   "cell_type": "markdown",
   "metadata": {},
   "source": [
    "## Model Building"
   ]
  },
  {
   "cell_type": "markdown",
   "metadata": {},
   "source": [
    "###  Naive Bayes On entire data"
   ]
  },
  {
   "cell_type": "code",
   "execution_count": 27,
   "metadata": {
    "collapsed": true
   },
   "outputs": [],
   "source": [
    "from sklearn.naive_bayes import MultinomialNB\n",
    "clf = MultinomialNB().fit(X_train_tfidf, text_data['Decision'])\n",
    "pred = clf.predict(X_train_tfidf)"
   ]
  },
  {
   "cell_type": "code",
   "execution_count": 28,
   "metadata": {},
   "outputs": [
    {
     "data": {
      "text/plain": [
       "accept             255\n",
       "reject             115\n",
       "probably reject     19\n",
       "Name: Decision, dtype: int64"
      ]
     },
     "execution_count": 28,
     "metadata": {},
     "output_type": "execute_result"
    }
   ],
   "source": [
    "text_data['Decision'].value_counts()"
   ]
  },
  {
   "cell_type": "code",
   "execution_count": 29,
   "metadata": {
    "collapsed": true
   },
   "outputs": [],
   "source": [
    "from sklearn.metrics import confusion_matrix, classification_report\n",
    "prediction = classification_report(text_data['Decision'], pred)"
   ]
  },
  {
   "cell_type": "code",
   "execution_count": 30,
   "metadata": {},
   "outputs": [
    {
     "data": {
      "text/plain": [
       "'                 precision    recall  f1-score   support\\n\\n         accept       0.67      1.00      0.80       255\\nprobably reject       0.00      0.00      0.00        19\\n         reject       1.00      0.07      0.13       115\\n\\n    avg / total       0.73      0.68      0.56       389\\n'"
      ]
     },
     "execution_count": 30,
     "metadata": {},
     "output_type": "execute_result"
    }
   ],
   "source": [
    "prediction"
   ]
  },
  {
   "cell_type": "markdown",
   "metadata": {},
   "source": [
    "### Spliting the data into train and test"
   ]
  },
  {
   "cell_type": "code",
   "execution_count": 32,
   "metadata": {
    "collapsed": true
   },
   "outputs": [],
   "source": [
    "from sklearn.cross_validation import train_test_split\n",
    "\n",
    "x_train, x_test, y_train, y_test = train_test_split(Dense_mat, text_data[\"Decision\"],test_size = 0.3, random_state = 5211)\n"
   ]
  },
  {
   "cell_type": "markdown",
   "metadata": {},
   "source": [
    "### Logistic Regression"
   ]
  },
  {
   "cell_type": "code",
   "execution_count": 33,
   "metadata": {
    "collapsed": true
   },
   "outputs": [],
   "source": [
    "from sklearn.linear_model import LogisticRegression\n",
    "logreg = LogisticRegression()\n",
    "log_model = logreg.fit(x_train,y_train)"
   ]
  },
  {
   "cell_type": "markdown",
   "metadata": {},
   "source": [
    "###  Prediction on train and validation data"
   ]
  },
  {
   "cell_type": "code",
   "execution_count": 35,
   "metadata": {
    "collapsed": true
   },
   "outputs": [],
   "source": [
    "pred_train = log_model.predict(x_train)\n",
    "pred_test = log_model.predict(x_test)"
   ]
  },
  {
   "cell_type": "markdown",
   "metadata": {},
   "source": [
    "### Display the confusion matrix"
   ]
  },
  {
   "cell_type": "code",
   "execution_count": 42,
   "metadata": {},
   "outputs": [
    {
     "data": {
      "text/plain": [
       "'                 precision    recall  f1-score   support\\n\\n         accept       0.76      1.00      0.86       172\\nprobably reject       0.00      0.00      0.00        10\\n         reject       1.00      0.51      0.68        90\\n\\n    avg / total       0.81      0.80      0.77       272\\n'"
      ]
     },
     "execution_count": 42,
     "metadata": {},
     "output_type": "execute_result"
    },
    {
     "data": {
      "text/plain": [
       "'                 precision    recall  f1-score   support\\n\\n         accept       0.72      1.00      0.83        83\\nprobably reject       0.00      0.00      0.00         9\\n         reject       1.00      0.04      0.08        25\\n\\n    avg / total       0.72      0.72      0.61       117\\n'"
      ]
     },
     "execution_count": 42,
     "metadata": {},
     "output_type": "execute_result"
    }
   ],
   "source": [
    "### Train data\n",
    "classification_report(y_train, pred_train) \n",
    "\n",
    "## Test Data\n",
    "classification_report(y_test, pred_test) "
   ]
  },
  {
   "cell_type": "markdown",
   "metadata": {},
   "source": [
    "###  Naive Bayes on Splitted Data"
   ]
  },
  {
   "cell_type": "code",
   "execution_count": 44,
   "metadata": {
    "collapsed": true
   },
   "outputs": [],
   "source": [
    "naive_model = MultinomialNB().fit(x_train,y_train)\n",
    "naive_train = naive_model.predict(x_train)\n",
    "naive_test = naive_model.predict(x_test)"
   ]
  },
  {
   "cell_type": "markdown",
   "metadata": {},
   "source": [
    "###  Predict on train and test data "
   ]
  },
  {
   "cell_type": "code",
   "execution_count": 46,
   "metadata": {},
   "outputs": [
    {
     "data": {
      "text/plain": [
       "'                 precision    recall  f1-score   support\\n\\n         accept       0.67      1.00      0.81       172\\nprobably reject       0.00      0.00      0.00        10\\n         reject       1.00      0.19      0.32        90\\n\\n    avg / total       0.76      0.69      0.61       272\\n'"
      ]
     },
     "execution_count": 46,
     "metadata": {},
     "output_type": "execute_result"
    },
    {
     "data": {
      "text/plain": [
       "'                 precision    recall  f1-score   support\\n\\n         accept       0.71      1.00      0.83        83\\nprobably reject       0.00      0.00      0.00         9\\n         reject       0.00      0.00      0.00        25\\n\\n    avg / total       0.50      0.71      0.59       117\\n'"
      ]
     },
     "execution_count": 46,
     "metadata": {},
     "output_type": "execute_result"
    }
   ],
   "source": [
    "classification_report(y_train, naive_train)\n",
    "classification_report(y_test, naive_test)"
   ]
  },
  {
   "cell_type": "markdown",
   "metadata": {},
   "source": [
    "### Decision Tree "
   ]
  },
  {
   "cell_type": "code",
   "execution_count": 50,
   "metadata": {
    "collapsed": true
   },
   "outputs": [],
   "source": [
    "from sklearn import tree\n",
    "tree_clf = tree.DecisionTreeClassifier()\n",
    "tree_model = tree_clf.fit(x_train, y_train)"
   ]
  },
  {
   "cell_type": "markdown",
   "metadata": {},
   "source": [
    "### Predict on train and test"
   ]
  },
  {
   "cell_type": "code",
   "execution_count": 56,
   "metadata": {
    "collapsed": true
   },
   "outputs": [],
   "source": [
    "tree_train = tree_model.predict(x_train)\n",
    "tree_test = tree_model.predict(x_test)"
   ]
  },
  {
   "cell_type": "code",
   "execution_count": 57,
   "metadata": {},
   "outputs": [
    {
     "data": {
      "text/plain": [
       "'                 precision    recall  f1-score   support\\n\\n         accept       1.00      1.00      1.00       172\\nprobably reject       1.00      1.00      1.00        10\\n         reject       1.00      1.00      1.00        90\\n\\n    avg / total       1.00      1.00      1.00       272\\n'"
      ]
     },
     "execution_count": 57,
     "metadata": {},
     "output_type": "execute_result"
    },
    {
     "data": {
      "text/plain": [
       "'                 precision    recall  f1-score   support\\n\\n         accept       0.70      0.77      0.74        83\\nprobably reject       0.00      0.00      0.00         9\\n         reject       0.16      0.16      0.16        25\\n\\n    avg / total       0.53      0.58      0.56       117\\n'"
      ]
     },
     "execution_count": 57,
     "metadata": {},
     "output_type": "execute_result"
    }
   ],
   "source": [
    "classification_report(y_train, tree_train)\n",
    "classification_report(y_test, tree_test)"
   ]
  },
  {
   "cell_type": "markdown",
   "metadata": {},
   "source": [
    "###  Support Vector Machine"
   ]
  },
  {
   "cell_type": "code",
   "execution_count": 60,
   "metadata": {
    "collapsed": true
   },
   "outputs": [],
   "source": [
    "from sklearn import svm\n",
    "svm_clf = svm.SVC()\n",
    "svm_model = svm_clf.fit(x_train, y_train)"
   ]
  },
  {
   "cell_type": "code",
   "execution_count": 62,
   "metadata": {
    "collapsed": true
   },
   "outputs": [],
   "source": [
    "svm_train = svm_model.predict(x_train)\n",
    "svm_test = svm_model.predict(x_test)"
   ]
  },
  {
   "cell_type": "code",
   "execution_count": 64,
   "metadata": {},
   "outputs": [
    {
     "data": {
      "text/plain": [
       "'                 precision    recall  f1-score   support\\n\\n         accept       0.63      1.00      0.77       172\\nprobably reject       0.00      0.00      0.00        10\\n         reject       0.00      0.00      0.00        90\\n\\n    avg / total       0.40      0.63      0.49       272\\n'"
      ]
     },
     "execution_count": 64,
     "metadata": {},
     "output_type": "execute_result"
    },
    {
     "data": {
      "text/plain": [
       "'                 precision    recall  f1-score   support\\n\\n         accept       0.71      1.00      0.83        83\\nprobably reject       0.00      0.00      0.00         9\\n         reject       0.00      0.00      0.00        25\\n\\n    avg / total       0.50      0.71      0.59       117\\n'"
      ]
     },
     "execution_count": 64,
     "metadata": {},
     "output_type": "execute_result"
    }
   ],
   "source": [
    "classification_report(y_train, svm_train)\n",
    "classification_report(y_test, svm_test)"
   ]
  }
 ],
 "metadata": {
  "kernelspec": {
   "display_name": "Python 2",
   "language": "python",
   "name": "python2"
  },
  "language_info": {
   "codemirror_mode": {
    "name": "ipython",
    "version": 2
   },
   "file_extension": ".py",
   "mimetype": "text/x-python",
   "name": "python",
   "nbconvert_exporter": "python",
   "pygments_lexer": "ipython2",
   "version": "2.7.13"
  }
 },
 "nbformat": 4,
 "nbformat_minor": 2
}
